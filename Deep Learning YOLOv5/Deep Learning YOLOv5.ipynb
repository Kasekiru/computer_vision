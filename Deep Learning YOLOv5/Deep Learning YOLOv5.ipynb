{
  "nbformat": 4,
  "nbformat_minor": 0,
  "metadata": {
    "colab": {
      "provenance": []
    },
    "kernelspec": {
      "name": "python3",
      "display_name": "Python 3"
    },
    "language_info": {
      "name": "python"
    }
  },
  "cells": [
    {
      "cell_type": "markdown",
      "source": [
        "**Setup**\n",
        "\n",
        "Clone GitHub repository, install dependencies and check PyTorch and GPU."
      ],
      "metadata": {
        "id": "EC-pXFpNibaD"
      }
    },
    {
      "cell_type": "code",
      "source": [
        "!git clone https://github.com/ultralytics/yolov5  # clone\n",
        "%cd yolov5\n",
        "%pip install -qr requirements.txt comet_ml  # install\n",
        "\n",
        "import torch\n",
        "import utils\n",
        "display = utils.notebook_init()  # checks"
      ],
      "metadata": {
        "id": "mbzCiwV0iS_E"
      },
      "execution_count": null,
      "outputs": []
    },
    {
      "cell_type": "code",
      "source": [
        "!unzip \"/content/catModel.zip\""
      ],
      "metadata": {
        "id": "wV7MUVjAjE_G"
      },
      "execution_count": null,
      "outputs": []
    },
    {
      "cell_type": "code",
      "source": [
        "# Train YOLOv5s on COCO128 for 20 epochs\n",
        "!python train.py --img 640 --batch 16 --epochs 20 --data /content/yolov5/data/data.yaml --weights yolov5s.pt --cache"
      ],
      "metadata": {
        "id": "F0H_8q_7kjL_"
      },
      "execution_count": null,
      "outputs": []
    },
    {
      "cell_type": "code",
      "source": [
        "!python detect.py --weights /content/yolov5/runs/train/exp3/weights/best.pt --img 640 --conf 0.25 --source /content/yolov5/Kucingtesting1.jpg\n",
        "# display.Image(filename='runs/detect/exp/zidane.jpg', width=600)"
      ],
      "metadata": {
        "id": "7B1Jjgv-nYoq"
      },
      "execution_count": null,
      "outputs": []
    }
  ]
}